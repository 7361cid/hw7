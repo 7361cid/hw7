{
  "cells": [
    {
      "cell_type": "markdown",
      "metadata": {
        "id": "nT4qlNEiCwon"
      },
      "source": [
        ""
      ]
    },
    {
      "cell_type": "markdown",
      "metadata": {
        "id": "Xf-Xe3zlCwoq"
      },
      "source": [
        ""
      ]
    },
    {
      "cell_type": "markdown",
      "metadata": {
        "id": "bSnCqL1oCwot"
      },
      "source": [
        "<h1 align='center'>Logistic Regression</h1>"
      ]
    },
    {
      "cell_type": "code",
      "execution_count": null,
      "metadata": {
        "id": "-jMDUY5-Cwov",
        "outputId": "336c47b4-f92d-4e45-9c8e-238cdd58443d"
      },
      "outputs": [
        {
          "name": "stdout",
          "output_type": "stream",
          "text": [
            "The autoreload extension is already loaded. To reload it, use:\n",
            "  %reload_ext autoreload\n"
          ]
        }
      ],
      "source": [
        "import pandas as pd\n",
        "import numpy as np\n",
        "import seaborn as sns; sns.set()\n",
        "import tqdm  # interactive progress bar\n",
        "import matplotlib.pyplot as plt\n",
        "\n",
        "from sklearn.model_selection import train_test_split\n",
        "from sklearn.metrics import accuracy_score\n",
        "from sklearn.feature_extraction.text import TfidfVectorizer\n",
        "from dmia.classifiers.logistic_regression import LogisticRegression\n",
        "\n",
        "train_df = pd.read_csv('./data/train.csv')\n",
        "review_summaries = list(train_df['Reviews_Summary'].values)\n",
        "review_summaries = [l.lower() for l in review_summaries]\n",
        "\n",
        "vectorizer = TfidfVectorizer(max_features=3000)\n",
        "X = vectorizer.fit_transform(review_summaries)\n",
        "y = train_df.Prediction.values\n",
        "X_train, X_test, y_train, y_test = train_test_split(X, y, train_size=0.7, random_state=42)\n",
        "clf = LogisticRegression()\n",
        "clf.train(X_train, y_train, verbose=True, learning_rate=1.0, num_iters=100, batch_size=256, reg=1e-3)\n",
        "print(\"Train accuracy = %.3f\" % accuracy_score(y_train, clf.predict(X_train)))\n",
        "print(\"Test accuracy = %.3f\" % accuracy_score(y_test, clf.predict(X_test)))\n",
        "# Получите индексы фичей\n",
        "pos_features = np.argsort(clf.w)[:5]\n",
        "neg_features = np.argsort(clf.w)[-5:]\n",
        "# Выведите слова\n",
        "fnames = vectorizer.get_feature_names_out()\n",
        "print([fnames[p-1] for p in pos_features])\n",
        "print([fnames[n-1] for n in neg_features])\n",
        "\n",
        "# построение графиков\n",
        "clf = LogisticRegression()\n",
        "train_scores = []\n",
        "test_scores = []\n",
        "num_iters = 1000\n",
        "\n",
        "for i in tqdm.trange(num_iters):\n",
        "    # Сделайте один шаг градиентного спуска с помощью num_iters=1\n",
        "    clf.train(X_train, y_train, learning_rate=1.0, num_iters=1, batch_size=256, reg=1e-3)\n",
        "    train_scores.append(accuracy_score(y_train, clf.predict(X_train)))\n",
        "    test_scores.append(accuracy_score(y_test, clf.predict(X_test)))\n",
        "\n",
        "plt.figure(figsize=(10,8))\n",
        "plt.plot(train_scores, 'r', test_scores, 'b')\n",
        "plt.show()\n"
      ]
    }
  ],
  "metadata": {
    "anaconda-cloud": {},
    "kernelspec": {
      "display_name": "Python 3 (ipykernel)",
      "language": "python",
      "name": "python3"
    },
    "language_info": {
      "codemirror_mode": {
        "name": "ipython",
        "version": 3
      },
      "file_extension": ".py",
      "mimetype": "text/x-python",
      "name": "python",
      "nbconvert_exporter": "python",
      "pygments_lexer": "ipython3",
      "version": "3.8.10"
    },
    "colab": {
      "name": "homework.ipynb",
      "provenance": []
    }
  },
  "nbformat": 4,
  "nbformat_minor": 0
}